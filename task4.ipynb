{
 "cells": [
  {
   "cell_type": "code",
   "execution_count": 5,
   "id": "2981e301-77eb-4bf5-b878-c11f3e62b9b1",
   "metadata": {},
   "outputs": [
    {
     "name": "stdout",
     "output_type": "stream",
     "text": [
      "The area of the Square is: 25\n",
      "The area of the Circle is: 113.09733552923255\n",
      "The area of the Triangle is: 9.0\n"
     ]
    }
   ],
   "source": [
    "import math\n",
    "class Shape:\n",
    "    def area(self):\n",
    "        pass\n",
    "class Square(Shape):\n",
    "    def __init__(self, side):\n",
    "        self.side = side\n",
    "    def area(self):\n",
    "        return self.side * self.side\n",
    "class Circle(Shape):\n",
    "    def __init__(self, radius):\n",
    "        self.radius = radius\n",
    "    def area(self):\n",
    "        return math.pi * self.radius ** 2\n",
    "class Triangle(Shape):\n",
    "    def __init__(self, base, height):\n",
    "        self.base = base\n",
    "        self.height = height\n",
    "    def area(self):\n",
    "        return 0.5 * self.base * self.height\n",
    "shapes = [Square(5), Circle(6), Triangle(3, 6)]\n",
    "for shape in shapes:\n",
    "    print(f'The area of the {shape.__class__.__name__} is: {shape.area()}')\n"
   ]
  },
  {
   "cell_type": "code",
   "execution_count": 6,
   "id": "6597cc40-421d-4a4b-bb24-7ab0369d0e99",
   "metadata": {},
   "outputs": [
    {
     "name": "stdout",
     "output_type": "stream",
     "text": [
      "Width: 4\n",
      "Height: 5\n",
      "Area: 20\n",
      "New Width: 6\n",
      "New Height: 7\n",
      "New Area: 42\n"
     ]
    }
   ],
   "source": [
    "class Rectangle:\n",
    "    def __init__(self, width, height):\n",
    "        self.__width = width\n",
    "        self.__height = height\n",
    "\n",
    "    def get_width(self):\n",
    "        return self.__width\n",
    "\n",
    "    def set_width(self, width):\n",
    "        self.__width = width\n",
    "\n",
    "    def get_height(self):\n",
    "        return self.__height\n",
    "\n",
    "    def set_height(self, height):\n",
    "        self.__height = height\n",
    "\n",
    "    def area(self):\n",
    "        return self.__width * self.__height\n",
    "\n",
    "rect = Rectangle(4,5)\n",
    "print(\"Width:\", rect.get_width())\n",
    "print(\"Height:\", rect.get_height())\n",
    "print(\"Area:\", rect.area())\n",
    "\n",
    "rect.set_width(6)\n",
    "rect.set_height(7)\n",
    "\n",
    "print(\"New Width:\", rect.get_width())\n",
    "print(\"New Height:\", rect.get_height())\n",
    "print(\"New Area:\", rect.area())\n"
   ]
  },
  {
   "cell_type": "code",
   "execution_count": 4,
   "id": "2876fac3-edd0-47bb-9acd-b8136cc232b6",
   "metadata": {},
   "outputs": [
    {
     "name": "stdout",
     "output_type": "stream",
     "text": [
      "name: nimmi\n",
      "Age: 23\n",
      "salary\" <bound method teacher.getsal of <__main__.teacher object at 0x0000025706C5F810>>\n"
     ]
    }
   ],
   "source": [
    "class teacher:\n",
    "    def __init__(self,name,age,salary):\n",
    "        self.name=name\n",
    "        self.age=age\n",
    "        self.__salary=salary\n",
    "    def getsal(self):\n",
    "        self.__salary\n",
    "    def setsal(self,salary):\n",
    "        self.__salary=salary\n",
    "teacher = teacher(\"nimmi\",23,10000)\n",
    "\n",
    "print('name:',teacher.name) \n",
    "print('Age:',teacher.age)  \n",
    "print('salary\"',teacher.getsal)"
   ]
  },
  {
   "cell_type": "code",
   "execution_count": 7,
   "id": "c302bced-1101-4731-b98c-031be55bec54",
   "metadata": {},
   "outputs": [
    {
     "name": "stdout",
     "output_type": "stream",
     "text": [
      "Name: Alice\n",
      "Country: USA\n"
     ]
    },
    {
     "ename": "NameError",
     "evalue": "name 'dob' is not defined",
     "output_type": "error",
     "traceback": [
      "\u001b[1;31m---------------------------------------------------------------------------\u001b[0m",
      "\u001b[1;31mNameError\u001b[0m                                 Traceback (most recent call last)",
      "Cell \u001b[1;32mIn[7], line 15\u001b[0m\n\u001b[0;32m     13\u001b[0m \u001b[38;5;28mprint\u001b[39m(\u001b[38;5;124mf\u001b[39m\u001b[38;5;124m\"\u001b[39m\u001b[38;5;124mName: \u001b[39m\u001b[38;5;132;01m{\u001b[39;00mperson\u001b[38;5;241m.\u001b[39mname\u001b[38;5;132;01m}\u001b[39;00m\u001b[38;5;124m\"\u001b[39m)\n\u001b[0;32m     14\u001b[0m \u001b[38;5;28mprint\u001b[39m(\u001b[38;5;124mf\u001b[39m\u001b[38;5;124m\"\u001b[39m\u001b[38;5;124mCountry: \u001b[39m\u001b[38;5;132;01m{\u001b[39;00mperson\u001b[38;5;241m.\u001b[39mcountry\u001b[38;5;132;01m}\u001b[39;00m\u001b[38;5;124m\"\u001b[39m)\n\u001b[1;32m---> 15\u001b[0m \u001b[38;5;28mprint\u001b[39m(\u001b[38;5;124m'\u001b[39m\u001b[38;5;124mdob\u001b[39m\u001b[38;5;124m'\u001b[39m,dob)\n\u001b[0;32m     16\u001b[0m \u001b[38;5;28mprint\u001b[39m(\u001b[38;5;124mf\u001b[39m\u001b[38;5;124m\"\u001b[39m\u001b[38;5;124mAge: \u001b[39m\u001b[38;5;132;01m{\u001b[39;00mperson\u001b[38;5;241m.\u001b[39mcalculate_age()\u001b[38;5;132;01m}\u001b[39;00m\u001b[38;5;124m\"\u001b[39m)\n",
      "\u001b[1;31mNameError\u001b[0m: name 'dob' is not defined"
     ]
    }
   ],
   "source": [
    "from datetime import datetime\n",
    "class person:\n",
    "    def __init__(self,name,country,dob):\n",
    "        self.name=name\n",
    "        self.country=country\n",
    "        self.dob=dob\n",
    "    def age(self):\n",
    "        today=datetime.today()\n",
    "        age=datetime.today-dob\n",
    "        return age\n",
    "person = person(\"Alice\", \"USA\", \"1990-08-15\")\n",
    "\n",
    "print(f\"Name: {person.name}\")\n",
    "print(f\"Country: {person.country}\")\n",
    "print('dob',dob)\n",
    "print(f\"Age: {person.calculate_age()}\")\n",
    "        "
   ]
  },
  {
   "cell_type": "code",
   "execution_count": null,
   "id": "d3b16cd4-08af-42f9-9f92-0951fe1b60eb",
   "metadata": {},
   "outputs": [],
   "source": []
  }
 ],
 "metadata": {
  "kernelspec": {
   "display_name": "Python 3 (ipykernel)",
   "language": "python",
   "name": "python3"
  },
  "language_info": {
   "codemirror_mode": {
    "name": "ipython",
    "version": 3
   },
   "file_extension": ".py",
   "mimetype": "text/x-python",
   "name": "python",
   "nbconvert_exporter": "python",
   "pygments_lexer": "ipython3",
   "version": "3.11.7"
  }
 },
 "nbformat": 4,
 "nbformat_minor": 5
}
