{
 "cells": [
  {
   "cell_type": "code",
   "execution_count": 5,
   "id": "2981e301-77eb-4bf5-b878-c11f3e62b9b1",
   "metadata": {},
   "outputs": [
    {
     "name": "stdout",
     "output_type": "stream",
     "text": [
      "The area of the Square is: 25\n",
      "The area of the Circle is: 113.09733552923255\n",
      "The area of the Triangle is: 9.0\n"
     ]
    }
   ],
   "source": [
    "import math\n",
    "class Shape:\n",
    "    def area(self):\n",
    "        pass\n",
    "class Square(Shape):\n",
    "    def __init__(self, side):\n",
    "        self.side = side\n",
    "    def area(self):\n",
    "        return self.side * self.side\n",
    "class Circle(Shape):\n",
    "    def __init__(self, radius):\n",
    "        self.radius = radius\n",
    "    def area(self):\n",
    "        return math.pi * self.radius ** 2\n",
    "class Triangle(Shape):\n",
    "    def __init__(self, base, height):\n",
    "        self.base = base\n",
    "        self.height = height\n",
    "    def area(self):\n",
    "        return 0.5 * self.base * self.height\n",
    "shapes = [Square(5), Circle(6), Triangle(3, 6)]\n",
    "for shape in shapes:\n",
    "    print(f'The area of the {shape.__class__.__name__} is: {shape.area()}')\n"
   ]
  },
  {
   "cell_type": "code",
   "execution_count": 6,
   "id": "6597cc40-421d-4a4b-bb24-7ab0369d0e99",
   "metadata": {},
   "outputs": [
    {
     "name": "stdout",
     "output_type": "stream",
     "text": [
      "Width: 4\n",
      "Height: 5\n",
      "Area: 20\n",
      "New Width: 6\n",
      "New Height: 7\n",
      "New Area: 42\n"
     ]
    }
   ],
   "source": [
    "class Rectangle:\n",
    "    def __init__(self, width, height):\n",
    "        self.__width = width\n",
    "        self.__height = height\n",
    "\n",
    "    def get_width(self):\n",
    "        return self.__width\n",
    "\n",
    "    def set_width(self, width):\n",
    "        self.__width = width\n",
    "\n",
    "    def get_height(self):\n",
    "        return self.__height\n",
    "\n",
    "    def set_height(self, height):\n",
    "        self.__height = height\n",
    "\n",
    "    def area(self):\n",
    "        return self.__width * self.__height\n",
    "\n",
    "rect = Rectangle(4,5)\n",
    "print(\"Width:\", rect.get_width())\n",
    "print(\"Height:\", rect.get_height())\n",
    "print(\"Area:\", rect.area())\n",
    "\n",
    "rect.set_width(6)\n",
    "rect.set_height(7)\n",
    "\n",
    "print(\"New Width:\", rect.get_width())\n",
    "print(\"New Height:\", rect.get_height())\n",
    "print(\"New Area:\", rect.area())\n"
   ]
  },
  {
   "cell_type": "code",
   "execution_count": null,
   "id": "2876fac3-edd0-47bb-9acd-b8136cc232b6",
   "metadata": {},
   "outputs": [],
   "source": []
  },
  {
   "cell_type": "code",
   "execution_count": null,
   "id": "c302bced-1101-4731-b98c-031be55bec54",
   "metadata": {},
   "outputs": [],
   "source": []
  }
 ],
 "metadata": {
  "kernelspec": {
   "display_name": "Python 3 (ipykernel)",
   "language": "python",
   "name": "python3"
  },
  "language_info": {
   "codemirror_mode": {
    "name": "ipython",
    "version": 3
   },
   "file_extension": ".py",
   "mimetype": "text/x-python",
   "name": "python",
   "nbconvert_exporter": "python",
   "pygments_lexer": "ipython3",
   "version": "3.11.7"
  }
 },
 "nbformat": 4,
 "nbformat_minor": 5
}
