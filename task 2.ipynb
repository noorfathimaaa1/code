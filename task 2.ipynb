{
 "cells": [
  {
   "cell_type": "code",
   "execution_count": 1,
   "id": "3eb0e862-e65a-49fb-b41b-774bef45720d",
   "metadata": {},
   "outputs": [
    {
     "name": "stdin",
     "output_type": "stream",
     "text": [
      "Enter the number: 3\n",
      "Enter the number: 6\n",
      "Enter the number: 7\n",
      "Enter the number: 8\n",
      "Enter the number: 0\n"
     ]
    },
    {
     "name": "stdout",
     "output_type": "stream",
     "text": [
      "the total is: 17\n"
     ]
    }
   ],
   "source": [
    "total = 0\n",
    "while True:\n",
    "    num = int(input(\"Enter the number:\"))\n",
    "    if num == 0:\n",
    "        break\n",
    "    if num == 7:\n",
    "        continue\n",
    "    total += num\n",
    "print('the total is:',total)\n",
    "\n"
   ]
  },
  {
   "cell_type": "code",
   "execution_count": 2,
   "id": "5783a040-5f0e-4ce0-87b6-8efde8f9b971",
   "metadata": {},
   "outputs": [
    {
     "name": "stdout",
     "output_type": "stream",
     "text": [
      "The number is: 4\n",
      "The square root is: 2\n"
     ]
    }
   ],
   "source": [
    "import random\n",
    "while True:\n",
    "    num = random.randint(1, 100)\n",
    "    sqrt = int(num**0.5)\n",
    "    if sqrt * sqrt == num:\n",
    "        print(f'The number is: {num}')\n",
    "        print(f'The square root is: {sqrt}')\n",
    "        break\n"
   ]
  },
  {
   "cell_type": "code",
   "execution_count": 4,
   "id": "930cfbd2-6fd4-440c-9cd2-f2412ca342b7",
   "metadata": {},
   "outputs": [
    {
     "name": "stdin",
     "output_type": "stream",
     "text": [
      "Enter a string:  hello world\n"
     ]
    },
    {
     "name": "stdout",
     "output_type": "stream",
     "text": [
      "e\n",
      "o\n",
      "o\n"
     ]
    }
   ],
   "source": [
    "strinput = input('Enter a string: ')\n",
    "for char in strinput:\n",
    "    if char == ' ':\n",
    "        continue \n",
    "    if char in ['a', 'e', 'i', 'o', 'u']:\n",
    "        print(char)\n"
   ]
  },
  {
   "cell_type": "code",
   "execution_count": null,
   "id": "a6e96c62-bd60-42b0-980c-8ffb49ecfe18",
   "metadata": {},
   "outputs": [],
   "source": []
  },
  {
   "cell_type": "code",
   "execution_count": null,
   "id": "f5559be3-5d74-4531-a2b1-7b1275e26301",
   "metadata": {},
   "outputs": [],
   "source": []
  },
  {
   "cell_type": "code",
   "execution_count": null,
   "id": "20c1d840-3342-4f96-8227-af26da5738d5",
   "metadata": {},
   "outputs": [],
   "source": []
  }
 ],
 "metadata": {
  "kernelspec": {
   "display_name": "Python 3 (ipykernel)",
   "language": "python",
   "name": "python3"
  },
  "language_info": {
   "codemirror_mode": {
    "name": "ipython",
    "version": 3
   },
   "file_extension": ".py",
   "mimetype": "text/x-python",
   "name": "python",
   "nbconvert_exporter": "python",
   "pygments_lexer": "ipython3",
   "version": "3.11.7"
  }
 },
 "nbformat": 4,
 "nbformat_minor": 5
}
